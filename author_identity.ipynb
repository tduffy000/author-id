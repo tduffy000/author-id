{
 "cells": [
  {
   "cell_type": "code",
   "execution_count": 1,
   "metadata": {},
   "outputs": [],
   "source": [
    "# load-in libraries\n",
    "import nltk\n",
    "import requests\n",
    "import re\n",
    "from sklearn.feature_extraction.text import TfidfVectorizer\n",
    "%matplotlib inline\n",
    "# nltk.download('stopwords')"
   ]
  },
  {
   "cell_type": "markdown",
   "metadata": {},
   "source": [
    "### Introduction\n",
    "We'll look at text samples from the plays of William Shakespeare and Ben Jonson, a contemporary of Shakespeare, to see if we can train a model which can accurately determine who the author of a given piece of text is. To do this, we must first pull-in our source data from Project Gutenberg and vectorize the texts. Here, we will consider the individual lines as the observations in order to build a larger dataset and not, then, get to predict on an entire play. This sparsity of data will likely inflate our error more than if we had an entire play, or even act, to identify."
   ]
  },
  {
   "cell_type": "code",
   "execution_count": 2,
   "metadata": {},
   "outputs": [],
   "source": [
    "# we'll look at the comedies of each (4 a piece)\n",
    "source_dict = {'Every Man in his Humour': 'http://www.gutenberg.org/cache/epub/3694/pg3694.txt', \n",
    "               'Volpone' : 'http://www.gutenberg.org/cache/epub/4039/pg4039.txt', \n",
    "               'The Alchemist': 'http://www.gutenberg.org/cache/epub/4081/pg4081.txt',\n",
    "               'Bartholomew Fair' : 'http://www.gutenberg.org/cache/epub/49461/pg49461.txt',\n",
    "               'As You Like It' : 'http://www.gutenberg.org/cache/epub/1121/pg1121.txt', \n",
    "                'The Comedy of Errors' : 'https://www.gutenberg.org/files/23046/23046-0.txt', \n",
    "                'Twelfth Night' : 'http://www.gutenberg.org/cache/epub/1123/pg1123.txt',\n",
    "                'Tempest' : 'http://www.gutenberg.org/cache/epub/1135/pg1135.txt'}\n",
    "author_dict = {'As You Like It': 'Shakespeare', 'The Comedy of Errors':'Shakespeare','Twelfth Night':'Shakespeare',\n",
    "              'Tempest':'Shakespeare', 'Every Man in his Humour':'Jonson','Volpone':'Jonson', \n",
    "               'The Alchemist':'Jonson', 'Bartholomew Fair':'Jonson'}\n",
    "author_map = {'Jonson' : 0, 'Shakespeare' : 1}"
   ]
  },
  {
   "cell_type": "code",
   "execution_count": 3,
   "metadata": {},
   "outputs": [],
   "source": [
    "def prepare_text(url_dict, line_size = 12, lines_as_obs = 1):\n",
    "    data_dict = {'play' : [], 'raw_text' : [], 'author' : []}\n",
    "    tokenizer = nltk.tokenize.RegexpTokenizer('\\w+')\n",
    "    texts, plays = [], []\n",
    "    for title, url in url_dict.items():\n",
    "        r = requests.get(url)\n",
    "        r.encoding = 'utf-8'\n",
    "        html = r.text[55000:-20000]  # make sure to remove header & footer w/ licenses & other non-text stuff\n",
    "        lines = re.split('\\n\\r|\\r\\n', html)\n",
    "        for i in range(0, len(lines), lines_as_obs):\n",
    "            if len(lines[i]) > line_size:  # remove shorter lines (likely names or stage directions)\n",
    "                melted_line = ' '.join(w for w in lines[i:i+lines_as_obs])  # add multiple lines if defined\n",
    "                line_tokenized = tokenizer.tokenize(melted_line.lower())\n",
    "                data_dict['raw_text'].append(' '.join(w for w in line_tokenized))\n",
    "                data_dict['play'].append(title)\n",
    "                data_dict['author'].append(author_dict[title])\n",
    "    return data_dict"
   ]
  },
  {
   "cell_type": "code",
   "execution_count": 4,
   "metadata": {},
   "outputs": [
    {
     "name": "stdout",
     "output_type": "stream",
     "text": [
      "1793.2\n",
      "1776\n"
     ]
    }
   ],
   "source": [
    "# we'll generate a corpus of one-liners \n",
    "text_dict = prepare_text(source_dict, line_size = 50)\n",
    "\n",
    "# and a multi-line version (thanks to Jiffar for suggestion)\n",
    "long_text_dict = prepare_text(source_dict, line_size = 50, lines_as_obs = 5)\n",
    "\n",
    "# check that len(long_text_dict is approx. 1/5 * len(text_dict))\n",
    "# won't be exact b/c of line exclusion for shorter lines\n",
    "print(len(text_dict['raw_text']) / 5)\n",
    "print(len(long_text_dict['raw_text']))"
   ]
  },
  {
   "cell_type": "code",
   "execution_count": 5,
   "metadata": {},
   "outputs": [
    {
     "name": "stdout",
     "output_type": "stream",
     "text": [
      "                      play                                           raw_text  \\\n",
      "0  Every Man in his Humour     lor se now trust me here s a goodly day toward   \n",
      "1  Every Man in his Humour  musco call up my son lorenzo bid him rise tell...   \n",
      "2  Every Man in his Humour    the sovereign use of study what cousin stephano   \n",
      "3  Every Man in his Humour  step nothing but e en come to see how you do u...   \n",
      "4  Every Man in his Humour   lor se that s kindly done you are welcome cousin   \n",
      "\n",
      "   author  label  \n",
      "0  Jonson      0  \n",
      "1  Jonson      0  \n",
      "2  Jonson      0  \n",
      "3  Jonson      0  \n",
      "4  Jonson      0  \n",
      "                      play                                           raw_text  \\\n",
      "0  Every Man in his Humour  step ay i know that sir i would not have come ...   \n",
      "1  Every Man in his Humour  will i scorn it ay so i do to be a consort for...   \n",
      "2  Every Man in his Humour  that which your friends have left you but you ...   \n",
      "3  Every Man in his Humour  of all reclaim ay so now you are told on it yo...   \n",
      "4  Every Man in his Humour  heir as simple as i stand here if my cousin di...   \n",
      "\n",
      "   author  label  \n",
      "0  Jonson      0  \n",
      "1  Jonson      0  \n",
      "2  Jonson      0  \n",
      "3  Jonson      0  \n",
      "4  Jonson      0  \n"
     ]
    }
   ],
   "source": [
    "# setup our pandas dataframe containing the lines and textual information\n",
    "import pandas as pd\n",
    "df = pd.DataFrame(text_dict)\n",
    "df['label'] = df['author'].map(author_map)\n",
    "print(df.head())\n",
    "\n",
    "long_df = pd.DataFrame(long_text_dict)\n",
    "long_df['label'] = long_df['author'].map(author_map)\n",
    "print(long_df.head())"
   ]
  },
  {
   "cell_type": "markdown",
   "metadata": {},
   "source": [
    "### Vectorizing text\n",
    "In order to pass-in our lines to a classification model, we need to transform our raw text into numeric vectors. We'll use tf-idf vectorizing which intends to predict the importance of a particular word in a corpus of text. Roughly, the statistic increases by the instances of a particular word and is depressed if that word is present in a large number of lines in the corpus (thus deflating the importance of common words like 'the'). The vector returned is then something we can directly feed into our classification model."
   ]
  },
  {
   "cell_type": "code",
   "execution_count": 6,
   "metadata": {},
   "outputs": [],
   "source": [
    "# need to vectorize texts in order to fit our classification model\n",
    "vectorizer = TfidfVectorizer()\n",
    "corpus = []\n",
    "for line in df.raw_text:\n",
    "    corpus.append(line)\n",
    "model = vectorizer.fit(corpus)"
   ]
  },
  {
   "cell_type": "markdown",
   "metadata": {},
   "source": [
    "Now that our text is vectorized, we will be using Logistic Regression to classify lines of text as being written by Ben Jonson or William Shakespeare. The model will learn a weight vector $\\vec{w}$ from our input train set of lines and their respective labels. Then, upon feeding it new data $\\vec{x}$, the following calculation is performed:\n",
    "$$\n",
    "f(x)=\\frac{1}{1+e^{-\\vec{w}\\cdot\\vec{x}}}\n",
    "$$\n",
    "which returns a value that is then mapped to a label depending on whether its output is closer to 0 or 1. "
   ]
  },
  {
   "cell_type": "code",
   "execution_count": 7,
   "metadata": {},
   "outputs": [],
   "source": [
    "from sklearn.linear_model import LogisticRegression\n",
    "from sklearn.model_selection import train_test_split\n",
    "TEST_SIZE = 0.2"
   ]
  },
  {
   "cell_type": "markdown",
   "metadata": {},
   "source": [
    "Now, can we tell if a model considering just one line versus one fitted on multiple lines as observations will perform any better?"
   ]
  },
  {
   "cell_type": "code",
   "execution_count": 8,
   "metadata": {},
   "outputs": [
    {
     "name": "stdout",
     "output_type": "stream",
     "text": [
      "Testing accuracy of single line model: 0.874233\n"
     ]
    }
   ],
   "source": [
    "# one-line model\n",
    "X_train_one, X_test_one, y_train_one, y_test_one = train_test_split(df['raw_text'], df['label'], test_size = TEST_SIZE)\n",
    "X_train_one, X_test_one = vectorizer.transform(X_train_one), vectorizer.transform(X_test_one)\n",
    "\n",
    "# insert use of cross-validation\n",
    "\n",
    "lr_one = LogisticRegression(solver = 'lbfgs')\n",
    "lr_one.fit(X_train_one, y_train_one)\n",
    "# what's the accuracy on our training data?\n",
    "score = lr_one.score(X_train_one, y_train_one)\n",
    "print(\"Testing accuracy of single line model: {}\".format(round(score,6)))"
   ]
  },
  {
   "cell_type": "code",
   "execution_count": 10,
   "metadata": {},
   "outputs": [
    {
     "name": "stdout",
     "output_type": "stream",
     "text": [
      "Testing accuracy of multi-line model: 0.867606\n"
     ]
    }
   ],
   "source": [
    "# multi-line model\n",
    "X_train_multi, X_test_multi, y_train_multi, y_test_multi = train_test_split(long_df['raw_text'], long_df['label'], test_size = TEST_SIZE)\n",
    "X_train_multi, X_test_multi = vectorizer.transform(X_train_multi), vectorizer.transform(X_test_multi)\n",
    "\n",
    "# insert use of cross-validation\n",
    "\n",
    "lr_multi = LogisticRegression(solver = 'lbfgs')\n",
    "lr_multi.fit(X_train_multi, y_train_multi)\n",
    "# what's the accuracy on our training data?\n",
    "score = lr_multi.score(X_train_multi, y_train_multi)\n",
    "print(\"Testing accuracy of multi-line model: {}\".format(round(score,6)))"
   ]
  },
  {
   "cell_type": "markdown",
   "metadata": {},
   "source": [
    "Appears that at least with respect to the training data there is not much differnece. Now, that we have our weights $\\vec{w}$ we can test them on our outstanding raw lines data and visualize the accuracy of our model."
   ]
  },
  {
   "cell_type": "code",
   "execution_count": 11,
   "metadata": {},
   "outputs": [
    {
     "name": "stdout",
     "output_type": "stream",
     "text": [
      "Accuracy of single line model: 0.839465\n",
      "Accuracy of multi-line model: 0.808989\n"
     ]
    }
   ],
   "source": [
    "from sklearn.metrics import accuracy_score\n",
    "import numpy as np\n",
    "\n",
    "y_pred_one = lr_one.predict(X_test_one)\n",
    "y_pred_multi = lr_multi.predict(X_test_multi)\n",
    "\n",
    "# what's the accuracy on our test data?\n",
    "print(\"Accuracy of single line model: {}\".format(round(accuracy_score(y_test_one, y_pred_one),6)))\n",
    "print(\"Accuracy of multi-line model: {}\".format(round(accuracy_score(y_test_multi, y_pred_multi),6)))"
   ]
  },
  {
   "cell_type": "markdown",
   "metadata": {},
   "source": [
    "The usage of cross-validation allows us to iteratively create partitions of our data in order to train & test the model on. This can give us a more robust sense of the performance of our model on different 'slices' of our data, as it were."
   ]
  },
  {
   "cell_type": "code",
   "execution_count": 12,
   "metadata": {},
   "outputs": [
    {
     "name": "stdout",
     "output_type": "stream",
     "text": [
      "Accuracy: 0.79 (+/- 0.05)\n"
     ]
    }
   ],
   "source": [
    "from sklearn.model_selection import cross_val_score\n",
    "transformed_text = vectorizer.transform(df['raw_text'])\n",
    "cv_scores = cross_val_score(lr_one, transformed_text, df['label'], cv = 5)\n",
    "print(\"Accuracy: %0.2f (+/- %0.2f)\" % (cv_scores.mean(), cv_scores.std() * 2))"
   ]
  },
  {
   "cell_type": "markdown",
   "metadata": {},
   "source": [
    "We have explored the problem of overfitting throughout various models and here we will likely experience the same problem. We can iterate our model over a range of decreasing test sizes and demonstrate that even though it generally increases the accuracy on our in-sample training data, it can have the inverse effect on our testing data."
   ]
  },
  {
   "cell_type": "code",
   "execution_count": 14,
   "metadata": {
    "scrolled": true
   },
   "outputs": [
    {
     "data": {
      "image/png": "[encoded data removed]",
      "text/plain": [
       "<Figure size 432x288 with 1 Axes>"
      ]
     },
     "metadata": {
      "needs_background": "light"
     },
     "output_type": "display_data"
    }
   ],
   "source": [
    "# iterate over test sizes and plot accuracy to demonstrate overfitting\n",
    "result_dict = {'test_size' :[], 'train_accuracy' : [], 'test_accuracy' : []}\n",
    "for denom in range(2,20):\n",
    "    size = 1 / denom\n",
    "    result_dict['test_size'].append(str(size))\n",
    "    X_train_tmp, X_test_tmp, y_train_tmp, y_test_tmp = train_test_split(df['raw_text'], df['label'], test_size = size)\n",
    "    X_train_tmp = vectorizer.transform(X_train_tmp)\n",
    "    X_test_tmp = vectorizer.transform(X_test_tmp)\n",
    "    lr_tmp = LogisticRegression(solver = 'lbfgs')\n",
    "    lr_tmp.fit(X_train_tmp, y_train_tmp)\n",
    "    y_pred_tmp = lr_tmp.predict(X_test_tmp)\n",
    "    result_dict['train_accuracy'].append(lr_tmp.score(X_train_tmp, y_train_tmp))\n",
    "    result_dict['test_accuracy'].append(accuracy_score(y_test_tmp, y_pred_tmp))\n",
    "result_df = pd.DataFrame(result_dict)\n",
    "result_df.set_index('test_size', inplace = True)\n",
    "_ = result_df.plot()"
   ]
  },
  {
   "cell_type": "markdown",
   "metadata": {},
   "source": [
    "Finally, an ROC (Receiver Operating Characteristic) curve, is perhaps a more informative visualization of the predictor we have build as it considers the False positive and True positive rates. Therefore, it is at least providing more information than an accuracy score which only informs us how many samples were correctly ID'ed. "
   ]
  },
  {
   "cell_type": "code",
   "execution_count": 21,
   "metadata": {},
   "outputs": [
    {
     "data": {
      "image/png": "[encoded data removed]",
      "text/plain": [
       "<Figure size 432x288 with 1 Axes>"
      ]
     },
     "metadata": {
      "needs_background": "light"
     },
     "output_type": "display_data"
    }
   ],
   "source": [
    "import matplotlib\n",
    "import matplotlib.pyplot as plt\n",
    "from sklearn.metrics import roc_curve, auc\n",
    "\n",
    "y_score = lr_one.decision_function(X_test_one)\n",
    "fpr, tpr, thresholds = roc_curve(y_test_one, y_score)\n",
    "roc_auc = auc(fpr, tpr)\n",
    "\n",
    "plt.figure()\n",
    "lw = 2\n",
    "plt.plot(fpr, tpr, color = 'darkorange',\n",
    "         lw = lw, label = 'ROC (area under curve = %0.2f)' % roc_auc)\n",
    "plt.plot([0, 1], [0, 1], color = 'navy', lw = lw, linestyle = '--')\n",
    "plt.xlim([0.0, 1.0])\n",
    "plt.ylim([0.0, 1.05])\n",
    "plt.xlabel('False Positive Rate')\n",
    "plt.ylabel('True Positive Rate')\n",
    "plt.legend(loc = 'lower right')\n",
    "_ = plt.title('ROC Curve')"
   ]
  }
 ],
 "metadata": {
  "kernelspec": {
   "display_name": "Python 3",
   "language": "python",
   "name": "python3"
  },
  "language_info": {
   "codemirror_mode": {
    "name": "ipython",
    "version": 3
   },
   "file_extension": ".py",
   "mimetype": "text/x-python",
   "name": "python",
   "nbconvert_exporter": "python",
   "pygments_lexer": "ipython3",
   "version": "3.7.0"
  }
 },
 "nbformat": 4,
 "nbformat_minor": 2
}
