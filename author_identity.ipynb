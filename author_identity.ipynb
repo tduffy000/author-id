{
 "cells": [
  {
   "cell_type": "code",
   "execution_count": 117,
   "metadata": {},
   "outputs": [],
   "source": [
    "# load-in libraries\n",
    "import nltk\n",
    "import requests\n",
    "import re\n",
    "from sklearn.feature_extraction.text import TfidfVectorizer\n",
    "# nltk.download('stopwords')"
   ]
  },
  {
   "cell_type": "markdown",
   "metadata": {},
   "source": [
    "### Introduction\n",
    "We'll look at text samples from the plays of William Shakespeare and Ben Jonson, a contemporary of Shakespeare, to see if we can train a model which can accurately determine who the author of a given piece of text is. To do this, we must first pull-in our source data from Project Gutenberg and vectorize the texts. Here, we will consider the individual lines as the observations in order to build a larger dataset and not, then, get to predict on an entire play. This sparsity of data will likely inflate our error more than if we had an entire play, or even act, to identify."
   ]
  },
  {
   "cell_type": "code",
   "execution_count": 118,
   "metadata": {},
   "outputs": [],
   "source": [
    "# we'll look at the comedies of each (4 a piece)\n",
    "source_dict = {'Every Man in his Humour': 'http://www.gutenberg.org/cache/epub/3694/pg3694.txt', \n",
    "               'Volpone' : 'http://www.gutenberg.org/cache/epub/4039/pg4039.txt', \n",
    "               'The Alchemist': 'http://www.gutenberg.org/cache/epub/4081/pg4081.txt',\n",
    "               'Bartholomew Fair' : 'http://www.gutenberg.org/cache/epub/49461/pg49461.txt',\n",
    "               'As You Like It' : 'http://www.gutenberg.org/cache/epub/1121/pg1121.txt', \n",
    "                'The Comedy of Errors' : 'https://www.gutenberg.org/files/23046/23046-0.txt', \n",
    "                'Twelfth Night' : 'http://www.gutenberg.org/cache/epub/1123/pg1123.txt',\n",
    "                'Tempest' : 'http://www.gutenberg.org/cache/epub/1135/pg1135.txt'}\n",
    "author_dict = {'As You Like It': 'Shakespeare', 'The Comedy of Errors':'Shakespeare','Twelfth Night':'Shakespeare',\n",
    "              'Tempest':'Shakespeare', 'Every Man in his Humour':'Jonson','Volpone':'Jonson', \n",
    "               'The Alchemist':'Jonson', 'Bartholomew Fair':'Jonson'}\n",
    "author_map = {'Jonson' : 0, 'Shakespeare' : 1}"
   ]
  },
  {
   "cell_type": "code",
   "execution_count": 119,
   "metadata": {},
   "outputs": [],
   "source": [
    "def prepare_text(url_dict, line_size = 12):\n",
    "    data_dict = {'play' : [], 'raw_text' : [], 'author' : []}\n",
    "    tokenizer = nltk.tokenize.RegexpTokenizer('\\w+')\n",
    "    texts, plays = [], []\n",
    "    for title, url in url_dict.items():\n",
    "        r = requests.get(url)\n",
    "        r.encoding = 'utf-8'\n",
    "        html = r.text[55000:-20000]  # make sure to remove header & footer w/ licenses & other non-text stuff\n",
    "        lines = re.split('\\n\\r|\\r\\n', html)\n",
    "        for i in range(len(lines)):\n",
    "            if len(lines[i]) > line_size:  # remove shorter lines (likely names or stage directions)\n",
    "                line_tokenized = tokenizer.tokenize(lines[i].lower())\n",
    "                data_dict['raw_text'].append(' '.join(w for w in line_tokenized))\n",
    "                data_dict['play'].append(title)\n",
    "                data_dict['author'].append(author_dict[title])\n",
    "    return data_dict"
   ]
  },
  {
   "cell_type": "code",
   "execution_count": 120,
   "metadata": {},
   "outputs": [],
   "source": [
    "text_dict = prepare_text(source_dict, line_size = 50)"
   ]
  },
  {
   "cell_type": "code",
   "execution_count": 121,
   "metadata": {},
   "outputs": [
    {
     "data": {
      "text/html": [
       "<div>\n",
       "<style scoped>\n",
       "    .dataframe tbody tr th:only-of-type {\n",
       "        vertical-align: middle;\n",
       "    }\n",
       "\n",
       "    .dataframe tbody tr th {\n",
       "        vertical-align: top;\n",
       "    }\n",
       "\n",
       "    .dataframe thead th {\n",
       "        text-align: right;\n",
       "    }\n",
       "</style>\n",
       "<table border=\"1\" class=\"dataframe\">\n",
       "  <thead>\n",
       "    <tr style=\"text-align: right;\">\n",
       "      <th></th>\n",
       "      <th>play</th>\n",
       "      <th>raw_text</th>\n",
       "      <th>author</th>\n",
       "      <th>label</th>\n",
       "    </tr>\n",
       "  </thead>\n",
       "  <tbody>\n",
       "    <tr>\n",
       "      <th>0</th>\n",
       "      <td>Every Man in his Humour</td>\n",
       "      <td>lor se now trust me here s a goodly day toward</td>\n",
       "      <td>Jonson</td>\n",
       "      <td>0</td>\n",
       "    </tr>\n",
       "    <tr>\n",
       "      <th>1</th>\n",
       "      <td>Every Man in his Humour</td>\n",
       "      <td>musco call up my son lorenzo bid him rise tell...</td>\n",
       "      <td>Jonson</td>\n",
       "      <td>0</td>\n",
       "    </tr>\n",
       "    <tr>\n",
       "      <th>2</th>\n",
       "      <td>Every Man in his Humour</td>\n",
       "      <td>the sovereign use of study what cousin stephano</td>\n",
       "      <td>Jonson</td>\n",
       "      <td>0</td>\n",
       "    </tr>\n",
       "    <tr>\n",
       "      <th>3</th>\n",
       "      <td>Every Man in his Humour</td>\n",
       "      <td>step nothing but e en come to see how you do u...</td>\n",
       "      <td>Jonson</td>\n",
       "      <td>0</td>\n",
       "    </tr>\n",
       "    <tr>\n",
       "      <th>4</th>\n",
       "      <td>Every Man in his Humour</td>\n",
       "      <td>lor se that s kindly done you are welcome cousin</td>\n",
       "      <td>Jonson</td>\n",
       "      <td>0</td>\n",
       "    </tr>\n",
       "    <tr>\n",
       "      <th>5</th>\n",
       "      <td>Every Man in his Humour</td>\n",
       "      <td>step ay i know that sir i would not have come ...</td>\n",
       "      <td>Jonson</td>\n",
       "      <td>0</td>\n",
       "    </tr>\n",
       "    <tr>\n",
       "      <th>6</th>\n",
       "      <td>Every Man in his Humour</td>\n",
       "      <td>lor se oh well well go in and see i doubt he s...</td>\n",
       "      <td>Jonson</td>\n",
       "      <td>0</td>\n",
       "    </tr>\n",
       "    <tr>\n",
       "      <th>7</th>\n",
       "      <td>Every Man in his Humour</td>\n",
       "      <td>step uncle afore i go in can you tell me an he...</td>\n",
       "      <td>Jonson</td>\n",
       "      <td>0</td>\n",
       "    </tr>\n",
       "    <tr>\n",
       "      <th>8</th>\n",
       "      <td>Every Man in his Humour</td>\n",
       "      <td>of the sciences of hawking and hunting i would...</td>\n",
       "      <td>Jonson</td>\n",
       "      <td>0</td>\n",
       "    </tr>\n",
       "    <tr>\n",
       "      <th>9</th>\n",
       "      <td>Every Man in his Humour</td>\n",
       "      <td>lor se why i hope you will not a hawking now w...</td>\n",
       "      <td>Jonson</td>\n",
       "      <td>0</td>\n",
       "    </tr>\n",
       "  </tbody>\n",
       "</table>\n",
       "</div>"
      ],
      "text/plain": [
       "                      play                                           raw_text  \\\n",
       "0  Every Man in his Humour     lor se now trust me here s a goodly day toward   \n",
       "1  Every Man in his Humour  musco call up my son lorenzo bid him rise tell...   \n",
       "2  Every Man in his Humour    the sovereign use of study what cousin stephano   \n",
       "3  Every Man in his Humour  step nothing but e en come to see how you do u...   \n",
       "4  Every Man in his Humour   lor se that s kindly done you are welcome cousin   \n",
       "5  Every Man in his Humour  step ay i know that sir i would not have come ...   \n",
       "6  Every Man in his Humour  lor se oh well well go in and see i doubt he s...   \n",
       "7  Every Man in his Humour  step uncle afore i go in can you tell me an he...   \n",
       "8  Every Man in his Humour  of the sciences of hawking and hunting i would...   \n",
       "9  Every Man in his Humour  lor se why i hope you will not a hawking now w...   \n",
       "\n",
       "   author  label  \n",
       "0  Jonson      0  \n",
       "1  Jonson      0  \n",
       "2  Jonson      0  \n",
       "3  Jonson      0  \n",
       "4  Jonson      0  \n",
       "5  Jonson      0  \n",
       "6  Jonson      0  \n",
       "7  Jonson      0  \n",
       "8  Jonson      0  \n",
       "9  Jonson      0  "
      ]
     },
     "execution_count": 121,
     "metadata": {},
     "output_type": "execute_result"
    }
   ],
   "source": [
    "# setup our pandas dataframe containing the lines and textual information\n",
    "import pandas as pd\n",
    "df = pd.DataFrame(text_dict)\n",
    "df['label'] = df['author'].map(author_map)\n",
    "df.head(10)"
   ]
  },
  {
   "cell_type": "markdown",
   "metadata": {},
   "source": [
    "### Vectorizing text\n",
    "In order to pass-in our lines to a classification model, we need to transform our raw text into numeric vectors. We'll use tf-idf vectorizing which intends to predict the importance of a particular word in a corpus of text. Roughly, the statistic increases by the instances of a particular word and is depressed if that word is present in a large number of lines in the corpus (thus deflating the importance of common words like 'the'). The vector returned is then something we can directly feed into our classification model."
   ]
  },
  {
   "cell_type": "code",
   "execution_count": 123,
   "metadata": {},
   "outputs": [],
   "source": [
    "# need to vectorize texts in order to fit our classification model\n",
    "vectorizer = TfidfVectorizer()\n",
    "corpus = []\n",
    "for line in df.raw_text:\n",
    "    corpus.append(line)\n",
    "model = vectorizer.fit(corpus)"
   ]
  },
  {
   "cell_type": "markdown",
   "metadata": {},
   "source": [
    "Now that our text is vectorized, we will be using Logistic Regression to classify lines of text as being written by Ben Jonson or William Shakespeare. The model will learn a weight vector $\\vec{w}$ from our input train set of lines and their respective labels. Then, upon feeding it new data $\\vec{x}$, the following calculation is performed:\n",
    "$$\n",
    "f(x)=\\frac{1}{1+e^{-\\vec{w}\\cdot\\vec{x}}}\n",
    "$$\n",
    "which returns a value that is then mapped to a label depending on whether its output is closer to 0 or 1. "
   ]
  },
  {
   "cell_type": "code",
   "execution_count": 158,
   "metadata": {},
   "outputs": [
    {
     "data": {
      "text/plain": [
       "0.8745119910764082"
      ]
     },
     "execution_count": 158,
     "metadata": {},
     "output_type": "execute_result"
    }
   ],
   "source": [
    "from sklearn.linear_model import LogisticRegression\n",
    "from sklearn.model_selection import train_test_split\n",
    "\n",
    "TEST_SIZE = 0.2\n",
    "\n",
    "X_train, X_test, y_train, y_test = train_test_split(df['raw_text'], df['label'], test_size = TEST_SIZE)\n",
    "X_train, X_test = vectorizer.transform(X_train), vectorizer.transform(X_test)\n",
    "\n",
    "lr = LogisticRegression(solver = 'lbfgs')\n",
    "lr.fit(X_train, y_train)\n",
    "# what's the accuracy on our training data?\n",
    "lr.score(X_train, y_train)"
   ]
  },
  {
   "cell_type": "markdown",
   "metadata": {},
   "source": [
    "Now that we have our weights $\\vec{w}$ we can test them on our outstanding raw lines data and visual the accuracy of our model. Again, given that we have restricted each observation to a line of text it is unlikely this model performs as well as many others would where our data environment is richer."
   ]
  },
  {
   "cell_type": "code",
   "execution_count": 159,
   "metadata": {},
   "outputs": [
    {
     "data": {
      "text/plain": [
       "0.8311036789297659"
      ]
     },
     "execution_count": 159,
     "metadata": {},
     "output_type": "execute_result"
    }
   ],
   "source": [
    "from sklearn.metrics import accuracy_score\n",
    "import numpy as np\n",
    "\n",
    "y_pred = lr.predict(X_test)\n",
    "# what's the accuracy on our test data?\n",
    "accuracy_score(y_test, y_pred)"
   ]
  },
  {
   "cell_type": "markdown",
   "metadata": {},
   "source": [
    "We have explored the problem of overfitting throughout various models and here we will likely experience the same problem. We can iterate our model over a range of decreasing test sizes and demonstrate that even though it generally increases the accuracy on our in-sample training data, it can have the inverse effect on our testing data."
   ]
  },
  {
   "cell_type": "code",
   "execution_count": 162,
   "metadata": {
    "scrolled": true
   },
   "outputs": [
    {
     "data": {
      "image/png": "[encoded data removed]",
      "text/plain": [
       "<Figure size 432x288 with 1 Axes>"
      ]
     },
     "metadata": {
      "needs_background": "light"
     },
     "output_type": "display_data"
    }
   ],
   "source": [
    "# iterate over test sizes and plot accuracy to demonstrate overfitting\n",
    "result_dict = {'test_size' :[], 'train_accuracy' : [], 'test_accuracy' : []}\n",
    "for denom in range(2,12):\n",
    "    size = 1 / denom\n",
    "    result_dict['test_size'].append(str(size))\n",
    "    X_train_tmp, X_test_tmp, y_train_tmp, y_test_tmp = train_test_split(df['raw_text'], df['label'], test_size = size)\n",
    "    X_train_tmp = vectorizer.transform(X_train_tmp)\n",
    "    X_test_tmp = vectorizer.transform(X_test_tmp)\n",
    "    lr_tmp = LogisticRegression(solver = 'lbfgs')\n",
    "    lr_tmp.fit(X_train_tmp, y_train_tmp)\n",
    "    y_pred_tmp = lr_tmp.predict(X_test_tmp)\n",
    "    result_dict['train_accuracy'].append(lr_tmp.score(X_train_tmp, y_train_tmp))\n",
    "    result_dict['test_accuracy'].append(accuracy_score(y_test_tmp, y_pred_tmp))\n",
    "result_df = pd.DataFrame(result_dict)\n",
    "result_df.set_index('test_size', inplace = True)\n",
    "_ = result_df.plot()"
   ]
  },
  {
   "cell_type": "markdown",
   "metadata": {},
   "source": [
    "Finally, an ROC (Receiver Operating Characteristic) curve, is perhaps a more informative visualization of the predictor we have build as it considers the False positive and True positive rates. Therefore, it is at least providing more information than an accuracy score which only informs us how many samples were correctly ID'ed. "
   ]
  },
  {
   "cell_type": "code",
   "execution_count": 166,
   "metadata": {},
   "outputs": [
    {
     "data": {
      "image/png": "[encoded data removed]",
      "text/plain": [
       "<Figure size 432x288 with 1 Axes>"
      ]
     },
     "metadata": {
      "needs_background": "light"
     },
     "output_type": "display_data"
    }
   ],
   "source": [
    "import matplotlib\n",
    "import matplotlib.pyplot as plt\n",
    "from sklearn.metrics import roc_curve, auc\n",
    "\n",
    "y_score = lr.decision_function(X_test)\n",
    "fpr, tpr, thresholds = roc_curve(y_test, y_score)\n",
    "roc_auc = auc(fpr, tpr)\n",
    "\n",
    "plt.figure()\n",
    "lw = 2\n",
    "plt.plot(fpr, tpr, color='darkorange',\n",
    "         lw=lw, label='ROC curve (area = %0.2f)' % roc_auc)\n",
    "plt.plot([0, 1], [0, 1], color='navy', lw=lw, linestyle='--')\n",
    "plt.xlim([0.0, 1.0])\n",
    "plt.ylim([0.0, 1.05])\n",
    "plt.xlabel('False Positive Rate')\n",
    "plt.ylabel('True Positive Rate')\n",
    "_ = plt.title('ROC Curve')"
   ]
  }
 ],
 "metadata": {
  "kernelspec": {
   "display_name": "Python 3",
   "language": "python",
   "name": "python3"
  },
  "language_info": {
   "codemirror_mode": {
    "name": "ipython",
    "version": 3
   },
   "file_extension": ".py",
   "mimetype": "text/x-python",
   "name": "python",
   "nbconvert_exporter": "python",
   "pygments_lexer": "ipython3",
   "version": "3.7.0"
  }
 },
 "nbformat": 4,
 "nbformat_minor": 2
}
